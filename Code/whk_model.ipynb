{
 "cells": [
  {
   "cell_type": "code",
   "execution_count": 2,
   "source": [
    "import networkx as nx\n",
    "import ndlib.models.ModelConfig as mc\n",
    "import ndlib.models.opinions as opn"
   ],
   "outputs": [],
   "metadata": {}
  },
  {
   "cell_type": "code",
   "execution_count": 3,
   "source": [
    "#network topology\n",
    "g = nx.erdos_renyi_graph(1000,0.1)\n",
    "\n",
    "#model selection\n",
    "model = opn.WHKModel(g)\n",
    "\n",
    "#model configuration\n",
    "config = mc.Configuration()\n",
    "config.add_model_parameter(\"epsilon\", 0.32)"
   ],
   "outputs": [],
   "metadata": {}
  },
  {
   "cell_type": "code",
   "execution_count": 4,
   "source": [
    "#setting the edge parameters\n",
    "weight = 0.2\n",
    "if isinstance(g,nx.Graph):\n",
    "    edges = g.edges\n",
    "else:\n",
    "    edges = [(g.vs[e.tuple[0]]['name'], g.vs[e.tuple[1]]['name']) for e in g.es]\n",
    "\n",
    "for e in edges:\n",
    "    config.add_edge_configuration(\"weight\", e, weight)\n"
   ],
   "outputs": [],
   "metadata": {}
  },
  {
   "cell_type": "code",
   "execution_count": 5,
   "source": [
    "model.set_initial_status(config)"
   ],
   "outputs": [],
   "metadata": {}
  },
  {
   "cell_type": "code",
   "execution_count": 6,
   "source": [
    "#simulation exectution\n",
    "iterations = model.iteration_bunch(20)"
   ],
   "outputs": [],
   "metadata": {}
  },
  {
   "cell_type": "code",
   "execution_count": null,
   "source": [],
   "outputs": [],
   "metadata": {}
  }
 ],
 "metadata": {
  "orig_nbformat": 4,
  "language_info": {
   "name": "python",
   "version": "3.9.10",
   "mimetype": "text/x-python",
   "codemirror_mode": {
    "name": "ipython",
    "version": 3
   },
   "pygments_lexer": "ipython3",
   "nbconvert_exporter": "python",
   "file_extension": ".py"
  },
  "kernelspec": {
   "name": "python3",
   "display_name": "Python 3.9.10 64-bit"
  },
  "interpreter": {
   "hash": "b0fa6594d8f4cbf19f97940f81e996739fb7646882a419484c72d19e05852a7e"
  }
 },
 "nbformat": 4,
 "nbformat_minor": 2
}